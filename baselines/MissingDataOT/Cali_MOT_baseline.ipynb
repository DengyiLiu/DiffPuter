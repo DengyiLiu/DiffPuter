{
 "cells": [
  {
   "cell_type": "markdown",
   "metadata": {
    "collapsed": true,
    "jupyter": {
     "outputs_hidden": true
    },
    "pycharm": {
     "name": "#%% md\n"
    }
   },
   "source": [
    "# Missing data imputation using optimal transport\n",
    "\n",
    "In this notebook, we will show how to use optimal transport to impute missing values in an incomplete dataset.\n",
    "\n",
    "The methods we will use are described in the following paper:\n",
    "\n",
    "B. Muzellec, J. Josse, C. Boyer, M. Cuturi, [Missing Data Imputation using Optimal Transport](https://arxiv.org/pdf/2002.03860.pdf)."
   ]
  },
  {
   "cell_type": "markdown",
   "metadata": {
    "collapsed": false,
    "jupyter": {
     "outputs_hidden": false
    }
   },
   "source": [
    "## Imports and installs"
   ]
  },
  {
   "cell_type": "code",
   "execution_count": 1,
   "metadata": {
    "collapsed": false,
    "jupyter": {
     "outputs_hidden": false
    },
    "pycharm": {
     "name": "#%%\n"
    }
   },
   "outputs": [
    {
     "name": "stdout",
     "output_type": "stream",
     "text": [
      "Requirement already satisfied: pot in /Users/liancheng/miniconda3/envs/bmdp/lib/python3.8/site-packages (0.9.3)\n",
      "Requirement already satisfied: numpy>=1.16 in /Users/liancheng/miniconda3/envs/bmdp/lib/python3.8/site-packages (from pot) (1.24.3)\n",
      "Requirement already satisfied: scipy>=1.6 in /Users/liancheng/miniconda3/envs/bmdp/lib/python3.8/site-packages (from pot) (1.10.1)\n",
      "Requirement already satisfied: geomloss in /Users/liancheng/miniconda3/envs/bmdp/lib/python3.8/site-packages (0.2.6)\n",
      "Requirement already satisfied: numpy in /Users/liancheng/miniconda3/envs/bmdp/lib/python3.8/site-packages (from geomloss) (1.24.3)\n",
      "Requirement already satisfied: torch in /Users/liancheng/miniconda3/envs/bmdp/lib/python3.8/site-packages (from geomloss) (2.0.1)\n",
      "Requirement already satisfied: filelock in /Users/liancheng/miniconda3/envs/bmdp/lib/python3.8/site-packages (from torch->geomloss) (3.9.0)\n",
      "Requirement already satisfied: typing-extensions in /Users/liancheng/miniconda3/envs/bmdp/lib/python3.8/site-packages (from torch->geomloss) (4.7.1)\n",
      "Requirement already satisfied: sympy in /Users/liancheng/miniconda3/envs/bmdp/lib/python3.8/site-packages (from torch->geomloss) (1.11.1)\n",
      "Requirement already satisfied: networkx in /Users/liancheng/miniconda3/envs/bmdp/lib/python3.8/site-packages (from torch->geomloss) (3.1)\n",
      "Requirement already satisfied: jinja2 in /Users/liancheng/miniconda3/envs/bmdp/lib/python3.8/site-packages (from torch->geomloss) (3.1.2)\n",
      "Requirement already satisfied: MarkupSafe>=2.0 in /Users/liancheng/miniconda3/envs/bmdp/lib/python3.8/site-packages (from jinja2->torch->geomloss) (2.1.1)\n",
      "Requirement already satisfied: mpmath>=0.19 in /Users/liancheng/miniconda3/envs/bmdp/lib/python3.8/site-packages (from sympy->torch->geomloss) (1.3.0)\n"
     ]
    }
   ],
   "source": [
    "# Ignore this cell if the corresponding packages are already installed\n",
    "\n",
    "!pip install pot\n",
    "!pip install geomloss"
   ]
  },
  {
   "cell_type": "code",
   "execution_count": 2,
   "metadata": {
    "collapsed": false,
    "jupyter": {
     "outputs_hidden": false
    },
    "pycharm": {
     "name": "#%%\n"
    }
   },
   "outputs": [],
   "source": [
    "%matplotlib inline\n",
    "import matplotlib.pyplot as plt\n",
    "\n",
    "import torch\n",
    "import torch.nn as nn\n",
    "import numpy as np\n",
    "\n",
    "from sklearn.preprocessing import scale\n",
    "from sklearn.experimental import enable_iterative_imputer\n",
    "from sklearn.impute import SimpleImputer, IterativeImputer\n",
    "\n",
    "import os\n",
    "\n",
    "from geomloss import SamplesLoss\n",
    "\n",
    "from imputers import OTimputer, RRimputer\n",
    "\n",
    "from utils import *\n",
    "from data_loaders import dataset_loader\n",
    "from softimpute import softimpute, cv_softimpute\n",
    "\n",
    "import logging\n",
    "logger = logging.getLogger()\n",
    "logger.setLevel(logging.INFO)\n",
    "logging.debug(\"test\")\n",
    "\n",
    "torch.set_default_tensor_type('torch.DoubleTensor')\n",
    "import pdb"
   ]
  },
  {
   "cell_type": "markdown",
   "metadata": {
    "collapsed": false,
    "jupyter": {
     "outputs_hidden": false
    },
    "pycharm": {
     "name": "#%% md\n"
    }
   },
   "source": [
    "## Data loading\n",
    "\n",
    "The dataset loader utilities assume there is a \"datasets/\" folder in the current directory."
   ]
  },
  {
   "cell_type": "code",
   "execution_count": 3,
   "metadata": {
    "collapsed": false,
    "jupyter": {
     "outputs_hidden": false
    },
    "pycharm": {
     "name": "#%%\n"
    }
   },
   "outputs": [],
   "source": [
    "if not os.path.isdir(\"datasets\"):\n",
    "    os.mkdir(\"datasets\")"
   ]
  },
  {
   "cell_type": "markdown",
   "metadata": {
    "collapsed": false,
    "jupyter": {
     "outputs_hidden": false
    },
    "pycharm": {
     "name": "#%% md\n"
    }
   },
   "source": [
    "Load the data and whiten it.\n",
    "In a real missing data situation, the mean and std would have to be estimated on non-missing data."
   ]
  },
  {
   "cell_type": "code",
   "execution_count": null,
   "metadata": {
    "collapsed": false,
    "jupyter": {
     "outputs_hidden": false
    },
    "pycharm": {
     "name": "#%%\n"
    }
   },
   "outputs": [],
   "source": [
    "# ground_truth = scale(dataset_loader(\"wine\")) # \"wine\" can be replaced with any of the datasets\n",
    "#                                              # supported by dataset_loader (see data_loaders.py)\n",
    "# X_true = torch.from_numpy(ground_truth)"
   ]
  },
  {
   "cell_type": "code",
   "execution_count": 5,
   "metadata": {},
   "outputs": [
    {
     "name": "stderr",
     "output_type": "stream",
     "text": [
      "/Users/liancheng/miniconda3/envs/bmdp/lib/python3.8/site-packages/sklearn/preprocessing/_data.py:235: UserWarning: Numerical issues were encountered when centering the data and might not be solved. Dataset may contain too large values. You may need to prescale your features.\n",
      "  warnings.warn(\n",
      "/Users/liancheng/miniconda3/envs/bmdp/lib/python3.8/site-packages/sklearn/preprocessing/_data.py:254: UserWarning: Numerical issues were encountered when scaling the data and might not be solved. The standard deviation of the data is probably very close to 0. \n",
      "  warnings.warn(\n",
      "/Users/liancheng/miniconda3/envs/bmdp/lib/python3.8/site-packages/sklearn/preprocessing/_data.py:235: UserWarning: Numerical issues were encountered when centering the data and might not be solved. Dataset may contain too large values. You may need to prescale your features.\n",
      "  warnings.warn(\n",
      "/Users/liancheng/miniconda3/envs/bmdp/lib/python3.8/site-packages/sklearn/preprocessing/_data.py:254: UserWarning: Numerical issues were encountered when scaling the data and might not be solved. The standard deviation of the data is probably very close to 0. \n",
      "  warnings.warn(\n"
     ]
    },
    {
     "data": {
      "text/plain": [
       "(torch.Size([18389, 9]), torch.Size([2044, 9]))"
      ]
     },
     "execution_count": 5,
     "metadata": {},
     "output_type": "execute_result"
    }
   ],
   "source": [
    "from datasets import load_dataset\n",
    "train_cali, test_cali = load_dataset(\"california\")\n",
    "train_cali, test_cali = scale(train_cali), scale(test_cali)\n",
    "\n",
    "#TODO: override\n",
    "ground_truth = train_cali\n",
    "gt_test_cali = test_cali\n",
    "train_cali, test_cali = torch.from_numpy(train_cali).double(), torch.from_numpy(test_cali).double()\n",
    "X_true = train_cali\n",
    "train_cali.shape, test_cali.shape"
   ]
  },
  {
   "cell_type": "markdown",
   "metadata": {
    "collapsed": false,
    "jupyter": {
     "outputs_hidden": false
    },
    "pycharm": {
     "name": "#%% md\n"
    }
   },
   "source": [
    "## Missing data generation\n",
    "\n",
    "Let's now simulate missing data. We will assume that the data is missing completely at random (MCAR) with a 50% probability.\n",
    "Additional MAR and MNAR missing data mechanisms are available in utils.py."
   ]
  },
  {
   "cell_type": "code",
   "execution_count": 6,
   "metadata": {
    "collapsed": false,
    "jupyter": {
     "outputs_hidden": false
    },
    "pycharm": {
     "name": "#%%\n"
    }
   },
   "outputs": [
    {
     "data": {
      "text/plain": [
       "torch.Size([18389, 9])"
      ]
     },
     "execution_count": 6,
     "metadata": {},
     "output_type": "execute_result"
    }
   ],
   "source": [
    "np.random.seed(42)\n",
    "\n",
    "p = 0.5\n",
    "\n",
    "mask = np.random.rand(*ground_truth.shape) < p #True for missing values, false for others\n",
    "x_miss = np.copy(ground_truth)\n",
    "\n",
    "x_miss[mask] = np.nan\n",
    "X_miss = torch.from_numpy(x_miss).double()\n",
    "X_miss.shape"
   ]
  },
  {
   "cell_type": "markdown",
   "metadata": {
    "collapsed": false,
    "jupyter": {
     "outputs_hidden": false
    }
   },
   "source": [
    "## Hyperparameters"
   ]
  },
  {
   "cell_type": "code",
   "execution_count": 7,
   "metadata": {
    "collapsed": false,
    "jupyter": {
     "outputs_hidden": false
    },
    "pycharm": {
     "name": "#%%\n"
    }
   },
   "outputs": [],
   "source": [
    "n, d = X_miss.shape\n",
    "batchsize = 128 # If the batch size is larger than half the dataset's size,\n",
    "                # it will be redefined in the imputation methods.\n",
    "lr = 1e-2\n",
    "epsilon = pick_epsilon(X_miss) # Set the regularization parameter as a multiple of the median distance, as per the paper."
   ]
  },
  {
   "cell_type": "markdown",
   "metadata": {
    "collapsed": false,
    "jupyter": {
     "outputs_hidden": false
    },
    "pycharm": {
     "name": "#%% md\n"
    }
   },
   "source": [
    "## Sinkhorn imputation (Algorithm 1)"
   ]
  },
  {
   "cell_type": "code",
   "execution_count": 8,
   "metadata": {
    "collapsed": false,
    "jupyter": {
     "outputs_hidden": false
    },
    "pycharm": {
     "name": "#%%\n"
    }
   },
   "outputs": [],
   "source": [
    "sk_imputer = OTimputer(eps=epsilon, batchsize=batchsize, lr=lr, niter=8000)"
   ]
  },
  {
   "cell_type": "code",
   "execution_count": 9,
   "metadata": {
    "collapsed": false,
    "jupyter": {
     "outputs_hidden": false
    },
    "pycharm": {
     "name": "#%%\n"
    }
   },
   "outputs": [
    {
     "name": "stderr",
     "output_type": "stream",
     "text": [
      "INFO:root:batchsize = 128, epsilon = 0.1400\n",
      "INFO:root:Iteration 0:\t Loss: 1.2218\t Validation MAE: 0.7544\tRMSE: 1.0121\n",
      "INFO:root:Iteration 500:\t Loss: 1.1335\t Validation MAE: 0.6903\tRMSE: 0.9575\n",
      "INFO:root:Iteration 1000:\t Loss: 1.0924\t Validation MAE: 0.6390\tRMSE: 0.9161\n",
      "INFO:root:Iteration 1500:\t Loss: 0.8604\t Validation MAE: 0.6000\tRMSE: 0.8852\n",
      "INFO:root:Iteration 2000:\t Loss: 0.7118\t Validation MAE: 0.5712\tRMSE: 0.8632\n",
      "INFO:root:Iteration 2500:\t Loss: 0.8255\t Validation MAE: 0.5518\tRMSE: 0.8476\n",
      "INFO:root:Iteration 3000:\t Loss: 1.1850\t Validation MAE: 0.5375\tRMSE: 0.8363\n",
      "INFO:root:Iteration 3500:\t Loss: 0.9760\t Validation MAE: 0.5274\tRMSE: 0.8287\n",
      "INFO:root:Iteration 4000:\t Loss: 0.7985\t Validation MAE: 0.5200\tRMSE: 0.8229\n",
      "INFO:root:Iteration 4500:\t Loss: 0.9331\t Validation MAE: 0.5152\tRMSE: 0.8183\n",
      "INFO:root:Iteration 5000:\t Loss: 0.7509\t Validation MAE: 0.5128\tRMSE: 0.8150\n",
      "INFO:root:Iteration 5500:\t Loss: 0.9115\t Validation MAE: 0.5102\tRMSE: 0.8134\n",
      "INFO:root:Iteration 6000:\t Loss: 0.8935\t Validation MAE: 0.5087\tRMSE: 0.8122\n",
      "INFO:root:Iteration 6500:\t Loss: 0.7257\t Validation MAE: 0.5062\tRMSE: 0.8102\n",
      "INFO:root:Iteration 7000:\t Loss: 1.0574\t Validation MAE: 0.5059\tRMSE: 0.8083\n",
      "INFO:root:Iteration 7500:\t Loss: 0.8656\t Validation MAE: 0.5049\tRMSE: 0.8063\n"
     ]
    }
   ],
   "source": [
    "sk_imp, sk_maes, sk_rmses = sk_imputer.fit_transform(X_miss, verbose=True, report_interval=500, X_true=X_true)"
   ]
  },
  {
   "cell_type": "code",
   "execution_count": 10,
   "metadata": {},
   "outputs": [
    {
     "data": {
      "text/plain": [
       "(torch.Size([18389, 9]), (8000,), (8000,))"
      ]
     },
     "execution_count": 10,
     "metadata": {},
     "output_type": "execute_result"
    }
   ],
   "source": [
    "sk_imp.shape, sk_maes.shape, sk_rmses.shape"
   ]
  },
  {
   "cell_type": "markdown",
   "metadata": {
    "collapsed": false,
    "jupyter": {
     "outputs_hidden": false
    },
    "pycharm": {
     "name": "#%% md\n"
    }
   },
   "source": [
    "## Round-robin imputation (Algorithm 3)\n",
    "\n",
    "Round-robin imputation models iteratively impute each variable using all the other variables.\n",
    "The imputation is performed according to an optimal transport criterion, as in Algorithm 3 in the paper.\n",
    "Any model can be used to perform the variable imputation. It is even possible to specify one type of model per variable\n",
    "(e.g. predict a variable with a linear model, and an other with an MLP), as long as those models gave trainable parameters.\n",
    "\n",
    "We give here two examples. In the first, variables are predicted using linear models, and in the second using a MLP.\n",
    "\n",
    "Note that even if each variable has an associated model of the same type as the others,\n",
    "those models have distinct sets of parameters."
   ]
  },
  {
   "cell_type": "markdown",
   "metadata": {
    "collapsed": false,
    "jupyter": {
     "outputs_hidden": false
    },
    "pycharm": {
     "name": "#%% md\n"
    }
   },
   "source": [
    "### Linear round-robin"
   ]
  },
  {
   "cell_type": "code",
   "execution_count": 11,
   "metadata": {
    "collapsed": false,
    "jupyter": {
     "outputs_hidden": false
    },
    "pycharm": {
     "name": "#%%\n"
    }
   },
   "outputs": [],
   "source": [
    "#Create the imputation models\n",
    "d_ = d - 1\n",
    "models = {}\n",
    "\n",
    "for i in range(d):\n",
    "    models[i] = nn.Linear(d_, 1)\n",
    "\n",
    "#Create the imputer\n",
    "lin_rr_imputer = RRimputer(models, eps=epsilon, lr=lr)"
   ]
  },
  {
   "cell_type": "code",
   "execution_count": 12,
   "metadata": {
    "collapsed": false,
    "jupyter": {
     "outputs_hidden": false
    },
    "pycharm": {
     "name": "#%%\n"
    }
   },
   "outputs": [
    {
     "name": "stderr",
     "output_type": "stream",
     "text": [
      "INFO:root:Iteration 0:\t Loss: 1.2170\tValidation MAE: 0.6876\tRMSE:  0.9278\n",
      "INFO:root:Iteration 1:\t Loss: 1.0191\tValidation MAE: 0.5907\tRMSE:  0.8226\n",
      "INFO:root:Iteration 2:\t Loss: 1.5371\tValidation MAE: 0.5482\tRMSE:  0.7764\n",
      "INFO:root:Iteration 3:\t Loss: 1.0635\tValidation MAE: 0.5265\tRMSE:  0.7620\n",
      "INFO:root:Iteration 4:\t Loss: 0.9696\tValidation MAE: 0.5112\tRMSE:  0.7555\n",
      "INFO:root:Iteration 5:\t Loss: 0.8931\tValidation MAE: 0.5040\tRMSE:  0.7533\n",
      "INFO:root:Iteration 6:\t Loss: 1.1505\tValidation MAE: 0.4994\tRMSE:  0.7516\n",
      "INFO:root:Iteration 7:\t Loss: 0.9680\tValidation MAE: 0.4975\tRMSE:  0.7495\n",
      "INFO:root:Iteration 8:\t Loss: 1.2693\tValidation MAE: 0.4986\tRMSE:  0.7516\n",
      "INFO:root:Iteration 9:\t Loss: 1.2204\tValidation MAE: 0.4981\tRMSE:  0.7503\n",
      "INFO:root:Early stopping criterion not reached\n"
     ]
    },
    {
     "data": {
      "text/plain": [
       "(torch.Size([18389, 9]), (10,))"
      ]
     },
     "execution_count": 12,
     "metadata": {},
     "output_type": "execute_result"
    }
   ],
   "source": [
    "lin_imp, lin_maes, lin_rmses = lin_rr_imputer.fit_transform(X_miss, verbose=True, X_true=X_true)\n",
    "lin_imp.shape, lin_maes.shape"
   ]
  },
  {
   "cell_type": "markdown",
   "metadata": {
    "collapsed": false,
    "jupyter": {
     "outputs_hidden": false
    },
    "pycharm": {
     "name": "#%% md\n"
    }
   },
   "source": [
    "### MLP round-robin"
   ]
  },
  {
   "cell_type": "code",
   "execution_count": 13,
   "metadata": {
    "collapsed": false,
    "jupyter": {
     "outputs_hidden": false
    },
    "pycharm": {
     "name": "#%%\n"
    }
   },
   "outputs": [],
   "source": [
    "#Create the imputation models\n",
    "d_ = d - 1\n",
    "models = {}\n",
    "\n",
    "for i in range(d):\n",
    "    models[i] = nn.Sequential(nn.Linear(d_, 2 * d_),\n",
    "                              nn.ReLU(),\n",
    "                              nn.Linear(2 * d_, d_),\n",
    "                              nn.ReLU(),\n",
    "                              nn.Linear(d_, 1))\n",
    "\n",
    "#Create the imputer\n",
    "mlp_rr_imputer = RRimputer(models, eps=epsilon, lr=lr)"
   ]
  },
  {
   "cell_type": "code",
   "execution_count": 14,
   "metadata": {
    "collapsed": false,
    "jupyter": {
     "outputs_hidden": false
    },
    "pycharm": {
     "name": "#%%\n"
    }
   },
   "outputs": [
    {
     "name": "stderr",
     "output_type": "stream",
     "text": [
      "INFO:root:Iteration 0:\t Loss: 1.0206\tValidation MAE: 0.5956\tRMSE:  0.8438\n",
      "INFO:root:Iteration 1:\t Loss: 1.0809\tValidation MAE: 0.5333\tRMSE:  0.7808\n",
      "INFO:root:Iteration 2:\t Loss: 0.9568\tValidation MAE: 0.5195\tRMSE:  0.7750\n",
      "INFO:root:Iteration 3:\t Loss: 0.8363\tValidation MAE: 0.5147\tRMSE:  0.7928\n",
      "INFO:root:Iteration 4:\t Loss: 0.8296\tValidation MAE: 0.5100\tRMSE:  0.7960\n",
      "INFO:root:Iteration 5:\t Loss: 1.0631\tValidation MAE: 0.5108\tRMSE:  0.8022\n",
      "INFO:root:Iteration 6:\t Loss: 0.9887\tValidation MAE: 0.5098\tRMSE:  0.8039\n",
      "INFO:root:Iteration 7:\t Loss: 0.9351\tValidation MAE: 0.5081\tRMSE:  0.8048\n",
      "INFO:root:Iteration 8:\t Loss: 0.9788\tValidation MAE: 0.5104\tRMSE:  0.8144\n",
      "INFO:root:Iteration 9:\t Loss: 0.9593\tValidation MAE: 0.5118\tRMSE:  0.8149\n",
      "INFO:root:Early stopping criterion not reached\n"
     ]
    }
   ],
   "source": [
    "mlp_imp, mlp_maes, mlp_rmses = mlp_rr_imputer.fit_transform(X_miss, verbose=True, X_true=X_true)"
   ]
  },
  {
   "cell_type": "markdown",
   "metadata": {
    "collapsed": false,
    "jupyter": {
     "outputs_hidden": false
    },
    "pycharm": {
     "name": "#%% md\n"
    }
   },
   "source": [
    "## Baselines\n",
    "\n",
    "Let's compare OT imputations to some baselines. As in the paper, we consider the following baselines: (i) mean imputation, (ii) iterated conditional ridge regression and (iii) softimpute."
   ]
  },
  {
   "cell_type": "code",
   "execution_count": 15,
   "metadata": {
    "collapsed": false,
    "jupyter": {
     "outputs_hidden": false
    },
    "pycharm": {
     "name": "#%%\n"
    }
   },
   "outputs": [
    {
     "name": "stdout",
     "output_type": "stream",
     "text": [
      "(18389, 9) (18389, 9) (18389, 9)\n"
     ]
    },
    {
     "name": "stderr",
     "output_type": "stream",
     "text": [
      "/Users/liancheng/miniconda3/envs/bmdp/lib/python3.8/site-packages/sklearn/impute/_iterative.py:699: ConvergenceWarning: [IterativeImputer] Early stopping criterion not reached.\n",
      "  warnings.warn(\n"
     ]
    }
   ],
   "source": [
    "# Imputation by the means\n",
    "simp_imputer = SimpleImputer()\n",
    "mean_imp = simp_imputer.fit_transform(x_miss)\n",
    "mean_mae = MAE(mean_imp, ground_truth, mask)\n",
    "mean_rmse = RMSE(mean_imp, ground_truth, mask)\n",
    "print(mean_imp.shape, ground_truth.shape, mask.shape)\n",
    "\n",
    "# ICE\n",
    "ice_imputer = IterativeImputer(random_state=0, max_iter=50)\n",
    "ice_imp = ice_imputer.fit_transform(x_miss)\n",
    "ice_mae = MAE(ice_imp, ground_truth, mask)\n",
    "ice_rmse = RMSE(ice_imp, ground_truth, mask)\n",
    "\n",
    "# Softimpute\n",
    "cv_error, grid_lambda = cv_softimpute(x_miss, grid_len=15)\n",
    "lbda = grid_lambda[np.argmin(cv_error)]\n",
    "soft_imp = softimpute((x_miss), lbda)[1]\n",
    "\n",
    "soft_mae = MAE(soft_imp, ground_truth, mask)\n",
    "soft_rmse = RMSE(soft_imp, ground_truth, mask)"
   ]
  },
  {
   "cell_type": "markdown",
   "metadata": {
    "collapsed": false,
    "jupyter": {
     "outputs_hidden": false
    },
    "pycharm": {
     "name": "#%% md\n"
    }
   },
   "source": [
    "## Comparison plots"
   ]
  },
  {
   "cell_type": "code",
   "execution_count": 16,
   "metadata": {
    "collapsed": false,
    "jupyter": {
     "outputs_hidden": false
    },
    "pycharm": {
     "name": "#%%\n"
    }
   },
   "outputs": [
    {
     "data": {
      "image/png": "[encoded data removed]",
      "text/plain": [
       "<Figure size 640x480 with 1 Axes>"
      ]
     },
     "metadata": {},
     "output_type": "display_data"
    }
   ],
   "source": [
    "fig, ax = plt.subplots(constrained_layout=True)\n",
    "npoints = len(sk_maes)\n",
    "\n",
    "ax.plot(np.linspace(0, 1, npoints) * npoints, sk_maes, label='Sinkhorn')\n",
    "ax.set_xticks(np.linspace(0, npoints, 6))\n",
    "ax.set_xlabel('# Sinkhorn iterations')\n",
    "\n",
    "ax.hlines(y=mean_mae, xmin=0, xmax=npoints, label=\"Means\", ls = '--', color='black')\n",
    "ax.hlines(y=ice_mae, xmin=0, xmax=npoints, label=\"ICE\", ls = '--', color='m')\n",
    "ax.hlines(y=soft_mae, xmin=0, xmax=npoints, label=\"Softimpute\", ls = '--', color='c')\n",
    "\n",
    "secax = ax.secondary_xaxis('top', functions=(lambda x: x * len(lin_maes) / npoints, lambda x: x * npoints / len(lin_maes)))\n",
    "secax.set_xlabel('# RR iterations')\n",
    "\n",
    "ax.plot(np.linspace(0, 1, len(lin_maes)) * npoints, lin_maes, label='Linear RR')\n",
    "ax.plot(np.linspace(0, 1, len(mlp_maes)) * npoints, mlp_maes, label='MLP RR')\n",
    "\n",
    "ax.set_ylabel('MAE')\n",
    "plt.legend()\n",
    "plt.show()"
   ]
  },
  {
   "cell_type": "code",
   "execution_count": 17,
   "metadata": {
    "collapsed": false,
    "jupyter": {
     "outputs_hidden": false
    },
    "pycharm": {
     "name": "#%%\n"
    }
   },
   "outputs": [
    {
     "data": {
      "image/png": "[encoded data removed]",
      "text/plain": [
       "<Figure size 640x480 with 1 Axes>"
      ]
     },
     "metadata": {},
     "output_type": "display_data"
    }
   ],
   "source": [
    "fig, ax = plt.subplots(constrained_layout=True)\n",
    "npoints = len(sk_rmses)\n",
    "\n",
    "ax.plot(np.linspace(0, 1, npoints) * npoints, sk_rmses, label='Sinkhorn')\n",
    "ax.set_xticks(np.linspace(0, npoints, 6))\n",
    "ax.set_xlabel('# Sinkhorn iterations')\n",
    "\n",
    "ax.hlines(y=mean_rmse, xmin=0, xmax=npoints, label=\"Means\", ls = '--', color='black')\n",
    "ax.hlines(y=ice_rmse, xmin=0, xmax=npoints, label=\"ICE\", ls = '--', color='m')\n",
    "ax.hlines(y=soft_rmse, xmin=0, xmax=npoints, label=\"Softimpute\", ls = '--', color='c')\n",
    "\n",
    "secax = ax.secondary_xaxis('top', functions=(lambda x: x * len(lin_maes) / npoints, lambda x: x * npoints/ len(lin_maes)))\n",
    "secax.set_xlabel('# RR iterations')\n",
    "\n",
    "ax.plot(np.linspace(0, 1, len(lin_rmses)) * npoints, lin_rmses, label='Linear RR')\n",
    "ax.plot(np.linspace(0, 1, len(mlp_maes)) * npoints, mlp_rmses, label='MLP RR')\n",
    "\n",
    "ax.set_ylabel('RMSE')\n",
    "plt.legend()\n",
    "plt.show()"
   ]
  },
  {
   "cell_type": "code",
   "execution_count": 18,
   "metadata": {},
   "outputs": [],
   "source": [
    "## Out of sample result for Linear RR and MLP RR (Alg3)"
   ]
  },
  {
   "cell_type": "code",
   "execution_count": 19,
   "metadata": {},
   "outputs": [
    {
     "name": "stdout",
     "output_type": "stream",
     "text": [
      "(2044, 9)\n",
      "(2044, 9)\n"
     ]
    }
   ],
   "source": [
    "np.random.seed(42)\n",
    "\n",
    "p = 0.5\n",
    "\n",
    "mask = np.random.rand(*test_cali.shape) < p #True for missing values, false for others\n",
    "print(mask.shape)\n",
    "test_cali_miss = np.copy(test_cali)\n",
    "print(test_cali_miss.shape)\n",
    "\n",
    "test_cali_miss[mask] = np.nan\n",
    "test_cali_miss = torch.from_numpy(test_cali_miss).double()\n",
    "test_cali_miss.shape\n",
    "\n",
    "np_mask = mask\n",
    "mask = torch.from_numpy(mask)"
   ]
  },
  {
   "cell_type": "code",
   "execution_count": 27,
   "metadata": {},
   "outputs": [
    {
     "name": "stderr",
     "output_type": "stream",
     "text": [
      "INFO:root:Iteration 0:\t Validation MAE: 0.5104\tRMSE: 0.7288\n",
      "INFO:root:Iteration 1:\t Validation MAE: 0.4882\tRMSE: 0.7071\n",
      "INFO:root:Iteration 2:\t Validation MAE: 0.4839\tRMSE: 0.7067\n",
      "INFO:root:Iteration 3:\t Validation MAE: 0.4838\tRMSE: 0.7096\n",
      "INFO:root:Iteration 4:\t Validation MAE: 0.4861\tRMSE: 0.7147\n",
      "INFO:root:Iteration 5:\t Validation MAE: 0.4886\tRMSE: 0.7206\n",
      "INFO:root:Iteration 6:\t Validation MAE: 0.4911\tRMSE: 0.7250\n",
      "INFO:root:Iteration 7:\t Validation MAE: 0.4951\tRMSE: 0.7325\n",
      "INFO:root:Iteration 8:\t Validation MAE: 0.4980\tRMSE: 0.7378\n",
      "INFO:root:Iteration 9:\t Validation MAE: 0.5015\tRMSE: 0.7441\n",
      "INFO:root:Early stopping criterion not reached\n",
      "INFO:root:Iteration 0:\t Validation MAE: 0.5053\tRMSE: 0.7462\n",
      "INFO:root:Iteration 1:\t Validation MAE: 0.4794\tRMSE: 0.7299\n",
      "INFO:root:Iteration 2:\t Validation MAE: 0.4742\tRMSE: 0.7375\n",
      "INFO:root:Iteration 3:\t Validation MAE: 0.4747\tRMSE: 0.7451\n",
      "INFO:root:Iteration 4:\t Validation MAE: 0.4767\tRMSE: 0.7510\n",
      "INFO:root:Iteration 5:\t Validation MAE: 0.4796\tRMSE: 0.7573\n",
      "INFO:root:Iteration 6:\t Validation MAE: 0.4811\tRMSE: 0.7600\n",
      "INFO:root:Iteration 7:\t Validation MAE: 0.4829\tRMSE: 0.7638\n",
      "INFO:root:Iteration 8:\t Validation MAE: 0.4845\tRMSE: 0.7668\n",
      "INFO:root:Iteration 9:\t Validation MAE: 0.4857\tRMSE: 0.7686\n",
      "INFO:root:Early stopping criterion not reached\n"
     ]
    }
   ],
   "source": [
    "#for linear RR\n",
    "lin_imp, lin_mae, lin_rmse = lin_rr_imputer.transform(test_cali_miss, mask=mask, verbose=True, X_true=test_cali) \n",
    "\n",
    "#for MLP RR\n",
    "mlp_imp, mlp_mae, mlp_rmse = mlp_rr_imputer.transform(test_cali_miss, mask=mask, verbose=True, X_true=test_cali)"
   ]
  },
  {
   "cell_type": "code",
   "execution_count": 28,
   "metadata": {},
   "outputs": [],
   "source": [
    "# Imputation by the means\n",
    "mean_imp = simp_imputer.transform(test_cali_miss)\n",
    "mean_mae = MAE(mean_imp, gt_test_cali, np_mask)\n",
    "mean_rmse = RMSE(mean_imp, gt_test_cali, np_mask)\n",
    "\n",
    "# ICE\n",
    "ice_imp = ice_imputer.transform(test_cali_miss)\n",
    "ice_mae = MAE(ice_imp, gt_test_cali, np_mask)\n",
    "ice_rmse = RMSE(ice_imp, gt_test_cali, np_mask)"
   ]
  },
  {
   "cell_type": "code",
   "execution_count": 29,
   "metadata": {},
   "outputs": [
    {
     "name": "stdout",
     "output_type": "stream",
     "text": [
      "lin RR out of sample MAE:0.5015038240014207\n",
      "mlp RR out of sample MAE:0.4856911253014401\n",
      "mean out of sample MAE:0.7342482301069667\n",
      "ice out of sample MAE:0.7342482301069667\n",
      "lin RR out of sample RMSE:0.7440975966124938\n",
      "mlp RR out of sample RMSE:0.7686255243711017\n",
      "mean out of sample RMSE:0.9814992069695488\n",
      "ice out of sample RMSE:0.9814992069695488\n"
     ]
    }
   ],
   "source": [
    "print(f'lin RR out of sample MAE:{lin_mae}')\n",
    "print(f'mlp RR out of sample MAE:{mlp_mae}')\n",
    "print(f'mean out of sample MAE:{mean_mae}')\n",
    "print(f'ice out of sample MAE:{ice_mae}')\n",
    "\n",
    "print(f'lin RR out of sample RMSE:{lin_rmse}')\n",
    "print(f'mlp RR out of sample RMSE:{mlp_rmse}')\n",
    "print(f'mean out of sample RMSE:{mean_rmse}')\n",
    "print(f'ice out of sample RMSE:{ice_rmse}')"
   ]
  },
  {
   "cell_type": "code",
   "execution_count": null,
   "metadata": {},
   "outputs": [],
   "source": []
  }
 ],
 "metadata": {
  "kernelspec": {
   "display_name": "Python 3 (ipykernel)",
   "language": "python",
   "name": "python3"
  },
  "language_info": {
   "codemirror_mode": {
    "name": "ipython",
    "version": 3
   },
   "file_extension": ".py",
   "mimetype": "text/x-python",
   "name": "python",
   "nbconvert_exporter": "python",
   "pygments_lexer": "ipython3",
   "version": "3.8.17"
  }
 },
 "nbformat": 4,
 "nbformat_minor": 4
}
